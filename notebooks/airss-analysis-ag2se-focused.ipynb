{
 "cells": [
  {
   "cell_type": "markdown",
   "metadata": {},
   "source": [
    "$\\require{mhchem}$\n",
    "# Analyse AIRSS Search results with different XC\n",
    "For $\\ce{Ag2Se}$"
   ]
  },
  {
   "cell_type": "code",
   "execution_count": 1,
   "metadata": {},
   "outputs": [],
   "source": [
    "%matplotlib inline\n",
    "import matplotlib.pyplot as plt\n",
    "import pandas as pd\n",
    "import numpy as np"
   ]
  },
  {
   "cell_type": "markdown",
   "metadata": {},
   "source": [
    "## Plot VASP refine results"
   ]
  },
  {
   "cell_type": "code",
   "execution_count": 2,
   "metadata": {},
   "outputs": [
    {
     "ename": "NotExistent",
     "evalue": "No result was found",
     "output_type": "error",
     "traceback": [
      "\u001b[0;31m---------------------------------------------------------------------------\u001b[0m",
      "\u001b[0;31mNotExistent\u001b[0m                               Traceback (most recent call last)",
      "\u001b[0;32m<ipython-input-2-423b1c12df9c>\u001b[0m in \u001b[0;36m<module>\u001b[0;34m\u001b[0m\n\u001b[1;32m      3\u001b[0m \u001b[0;32mfrom\u001b[0m \u001b[0maiida\u001b[0m\u001b[0;34m.\u001b[0m\u001b[0morm\u001b[0m \u001b[0;32mimport\u001b[0m \u001b[0mGroup\u001b[0m\u001b[0;34m,\u001b[0m \u001b[0mQueryBuilder\u001b[0m\u001b[0;34m,\u001b[0m \u001b[0mStructureData\u001b[0m\u001b[0;34m,\u001b[0m\u001b[0mCode\u001b[0m\u001b[0;34m,\u001b[0m \u001b[0mComputer\u001b[0m\u001b[0;34m\u001b[0m\u001b[0;34m\u001b[0m\u001b[0m\n\u001b[1;32m      4\u001b[0m \u001b[0;31m# Gruop containing the res structures for easy access\u001b[0m\u001b[0;34m\u001b[0m\u001b[0;34m\u001b[0m\u001b[0;34m\u001b[0m\u001b[0m\n\u001b[0;32m----> 5\u001b[0;31m \u001b[0mres_structgroup\u001b[0m \u001b[0;34m=\u001b[0m \u001b[0mGroup\u001b[0m\u001b[0;34m.\u001b[0m\u001b[0mobjects\u001b[0m\u001b[0;34m.\u001b[0m\u001b[0mget\u001b[0m\u001b[0;34m(\u001b[0m\u001b[0mlabel\u001b[0m\u001b[0;34m=\u001b[0m\u001b[0;34m'ag2se/reduced-xc-test-set'\u001b[0m\u001b[0;34m)\u001b[0m\u001b[0;34m\u001b[0m\u001b[0;34m\u001b[0m\u001b[0m\n\u001b[0m",
      "\u001b[0;32m~/miniconda3/envs/aiida/lib/python3.8/site-packages/aiida/orm/entities.py\u001b[0m in \u001b[0;36mget\u001b[0;34m(self, **filters)\u001b[0m\n\u001b[1;32m    134\u001b[0m         \"\"\"\n\u001b[1;32m    135\u001b[0m         \u001b[0mres\u001b[0m \u001b[0;34m=\u001b[0m \u001b[0mself\u001b[0m\u001b[0;34m.\u001b[0m\u001b[0mquery\u001b[0m\u001b[0;34m(\u001b[0m\u001b[0mfilters\u001b[0m\u001b[0;34m=\u001b[0m\u001b[0mfilters\u001b[0m\u001b[0;34m)\u001b[0m\u001b[0;34m\u001b[0m\u001b[0;34m\u001b[0m\u001b[0m\n\u001b[0;32m--> 136\u001b[0;31m         \u001b[0;32mreturn\u001b[0m \u001b[0mres\u001b[0m\u001b[0;34m.\u001b[0m\u001b[0mone\u001b[0m\u001b[0;34m(\u001b[0m\u001b[0;34m)\u001b[0m\u001b[0;34m[\u001b[0m\u001b[0;36m0\u001b[0m\u001b[0;34m]\u001b[0m\u001b[0;34m\u001b[0m\u001b[0;34m\u001b[0m\u001b[0m\n\u001b[0m\u001b[1;32m    137\u001b[0m \u001b[0;34m\u001b[0m\u001b[0m\n\u001b[1;32m    138\u001b[0m     \u001b[0;32mdef\u001b[0m \u001b[0mfind\u001b[0m\u001b[0;34m(\u001b[0m\u001b[0mself\u001b[0m\u001b[0;34m,\u001b[0m \u001b[0mfilters\u001b[0m\u001b[0;34m=\u001b[0m\u001b[0;32mNone\u001b[0m\u001b[0;34m,\u001b[0m \u001b[0morder_by\u001b[0m\u001b[0;34m=\u001b[0m\u001b[0;32mNone\u001b[0m\u001b[0;34m,\u001b[0m \u001b[0mlimit\u001b[0m\u001b[0;34m=\u001b[0m\u001b[0;32mNone\u001b[0m\u001b[0;34m)\u001b[0m\u001b[0;34m:\u001b[0m\u001b[0;34m\u001b[0m\u001b[0;34m\u001b[0m\u001b[0m\n",
      "\u001b[0;32m~/miniconda3/envs/aiida/lib/python3.8/site-packages/aiida/orm/querybuilder.py\u001b[0m in \u001b[0;36mone\u001b[0;34m(self)\u001b[0m\n\u001b[1;32m   2181\u001b[0m             \u001b[0;32mraise\u001b[0m \u001b[0mMultipleObjectsError\u001b[0m\u001b[0;34m(\u001b[0m\u001b[0;34m'More than one result was found'\u001b[0m\u001b[0;34m)\u001b[0m\u001b[0;34m\u001b[0m\u001b[0;34m\u001b[0m\u001b[0m\n\u001b[1;32m   2182\u001b[0m         \u001b[0;32melif\u001b[0m \u001b[0mlen\u001b[0m\u001b[0;34m(\u001b[0m\u001b[0mres\u001b[0m\u001b[0;34m)\u001b[0m \u001b[0;34m==\u001b[0m \u001b[0;36m0\u001b[0m\u001b[0;34m:\u001b[0m\u001b[0;34m\u001b[0m\u001b[0;34m\u001b[0m\u001b[0m\n\u001b[0;32m-> 2183\u001b[0;31m             \u001b[0;32mraise\u001b[0m \u001b[0mNotExistent\u001b[0m\u001b[0;34m(\u001b[0m\u001b[0;34m'No result was found'\u001b[0m\u001b[0;34m)\u001b[0m\u001b[0;34m\u001b[0m\u001b[0;34m\u001b[0m\u001b[0m\n\u001b[0m\u001b[1;32m   2184\u001b[0m         \u001b[0;32mreturn\u001b[0m \u001b[0mres\u001b[0m\u001b[0;34m[\u001b[0m\u001b[0;36m0\u001b[0m\u001b[0;34m]\u001b[0m\u001b[0;34m\u001b[0m\u001b[0;34m\u001b[0m\u001b[0m\n\u001b[1;32m   2185\u001b[0m \u001b[0;34m\u001b[0m\u001b[0m\n",
      "\u001b[0;31mNotExistent\u001b[0m: No result was found"
     ]
    }
   ],
   "source": [
    "%aiida\n",
    "import pandas as pd\n",
    "from aiida.orm import Group, QueryBuilder, StructureData,Code, Computer\n",
    "# Gruop containing the res structures for easy access\n",
    "res_structgroup = Group.objects.get(label='ag2se/reduced-xc-test-set')\n"
   ]
  },
  {
   "cell_type": "code",
   "execution_count": 5,
   "metadata": {},
   "outputs": [],
   "source": [
    "def get_xc_type(param, sfamily):\n",
    "\n",
    "    if isinstance(param, Dict):\n",
    "        param = param.get_dict()['vasp']\n",
    "    else:\n",
    "        param = param['vasp']\n",
    "    gga = param.get('gga')\n",
    "    if sfamily.startswith('LDA') and gga is None :\n",
    "        return 'lda'\n",
    "    elif gga is None or gga.upper() == 'PE':\n",
    "        if param.get('lhfcalc'):\n",
    "            return 'hse06'\n",
    "        return 'pbe'\n",
    "    elif gga == 'ps' and 'ldauu' not in param:\n",
    "        return 'pbesol'\n",
    "    else:\n",
    "        return 'ERROR'\n",
    "    return None\n",
    "\n",
    "import re\n",
    "# Patter matching the name\n",
    "pat = re.compile(r'([\\w\\-_]+)\\.res')\n",
    "\n",
    "def get_dataframe(group, lkey=0):\n",
    "    \"\"\"Obtained relaxed structures for a particular group\"\"\"\n",
    "\n",
    "    q = QueryBuilder()\n",
    "    q.append(Group, filters={'id': group.pk})\n",
    "    q.append(StructureData, with_group=Group, project=['id'])\n",
    "    q.append(WorkChainNode, with_incoming=StructureData, filters={'attributes.exit_status': {'in': [0, 406, 600]},\n",
    "                                                                  'process_type': {'like': '%relax'}\n",
    "                                                                 },\n",
    "             project=['uuid', 'label'])\n",
    "    q.append(Str, with_outgoing=WorkChainNode, edge_filters={'label': 'vasp__potential_family'}, project='attributes.value')\n",
    "    q.append(Dict, with_incoming=WorkChainNode, project=['attributes.total_energies.energy_no_entropy'])\n",
    "    q.append(StructureData, edge_filters={'label': 'relax__structure'}, with_incoming=WorkChainNode, project=['*', 'id'], edge_project=['label'])\n",
    "    q.append(Dict, with_outgoing=WorkChainNode, edge_filters={'label': 'vasp__parameters'}, project=['attributes'], \n",
    "             filters={'attributes.vasp.encut': 550}\n",
    "            )\n",
    "    q.distinct()\n",
    "    res = q.all()\n",
    "    \n",
    "    q = QueryBuilder()\n",
    "    q.append(Group, filters={'id': group.pk})\n",
    "    q.append(StructureData, with_group=Group, project=['id'])\n",
    "    q.append(WorkChainNode, with_incoming=StructureData, filters={'attributes.exit_status': {'in': [0, 406, 600]},\n",
    "                                                                  'process_type': {'like': '%relax'}\n",
    "                                                                 },\n",
    "             project=['uuid', 'label'])\n",
    "    q.append(Str, with_outgoing=WorkChainNode, edge_filters={'label': 'potential_family'}, project='attributes.value')\n",
    "    q.append(Dict, with_incoming=WorkChainNode, project=['attributes.total_energies.energy_no_entropy'])\n",
    "    q.append(StructureData, edge_filters={'label': 'relax__structure'}, with_incoming=WorkChainNode, project=['*', 'id'], edge_project=['label'])\n",
    "    q.append(Dict, with_outgoing=WorkChainNode, edge_filters={'label': 'parameters'}, project=['attributes'], \n",
    "             filters={'attributes.vasp.encut': 550}\n",
    "            )\n",
    "    q.distinct()\n",
    "    res.extend(q.all())\n",
    "    \n",
    "    \n",
    "    results = []\n",
    "    for spk, rpk, rlabel, family_string,  eng, struct, rspk, calc_param, elabel in res:\n",
    "        funits = struct.get_pymatgen().composition.get_integer_formula_and_factor()[1]\n",
    "        name = 'Ag2Se GUNTER' if 'GUNTER' in rlabel else rlabel.split()[lkey] \n",
    "        results.append({'label': str(name), 'relax_work': rpk, 'relaxed': rspk, 'energy': eng,\n",
    "                        'energy_fu': eng / funits, 'nform': funits, \n",
    "                        'volume': struct.get_cell_volume(), \n",
    "                        'volume_fu': struct.get_cell_volume() / funits,\n",
    "                        'xc': get_xc_type(calc_param, family_string),\n",
    "                        'elabel': elabel,\n",
    "                        **calc_param['vasp']\n",
    "                       })\n",
    "    return pd.DataFrame.from_records(results)"
   ]
  },
  {
   "cell_type": "code",
   "execution_count": 6,
   "metadata": {},
   "outputs": [],
   "source": [
    "def type_string(label):\n",
    "    if 'mp' in label:\n",
    "        return r'$P2_12_12_1$'\n",
    "    elif '20200927' in label:\n",
    "        return r'Anti-$\\mathrm{PbCl_2}$'\n",
    "    elif 'GUNTER' in label:\n",
    "        return 'Gunter'\n",
    "    return 'AIRSS'"
   ]
  },
  {
   "cell_type": "code",
   "execution_count": 7,
   "metadata": {},
   "outputs": [],
   "source": [
    "# Joint Data Together\n",
    "dfs = []\n",
    "exp_structgroup = Group.objects.get_or_create(label='ag2se/gunter/structure')[0]\n",
    "for resgroup in [res_structgroup, exp_structgroup]:\n",
    "    res_vasp_df = get_dataframe(resgroup)\n",
    "    #mp_vasp_df = get_dataframe(mp_struct_group, lkey=1)\n",
    "    #vasp_df = pd.concat([res_vasp_df, mp_vasp_df], axis=0)\n",
    "    vasp_df = res_vasp_df\n",
    "    vasp_df['type'] = vasp_df.label.apply(type_string)\n",
    "    vasp_df['group'] = resgroup.label\n",
    "    vasp_df['label'] = vasp_df['label'].str.replace('-P2', '_P2')\n",
    "    dfs.append(vasp_df)\n",
    "vasp_df = pd.concat(dfs)\n",
    "\n",
    "vasp_df['label'] = vasp_df['label'].str.replace('-P2', '_P2')\n",
    "vasp_df['seed_name'] = vasp_df['label'].apply(lambda x: x.split('-')[0])\n",
    "vasp_df['energy_pa'] = vasp_df['energy_fu'] / 3 # 3 atoms per unit cell"
   ]
  },
  {
   "cell_type": "markdown",
   "metadata": {},
   "source": [
    "# Reference for each exchange correlaction functional\n",
    "\n",
    "Only the relative energies make sense - we use the P2_12_12_1 phase as the reference"
   ]
  },
  {
   "cell_type": "code",
   "execution_count": 9,
   "metadata": {},
   "outputs": [],
   "source": [
    "vasp_df['energy_pa_ref'] = vasp_df['energy_pa']\n",
    "for xc in vasp_df.xc.unique():\n",
    "    mask = (vasp_df.xc == xc)\n",
    "    ref_eng = vasp_df.loc[mask & (vasp_df['type'] == r'$P2_12_12_1$'), 'energy_pa'].min()\n",
    "    vasp_df.loc[vasp_df.xc == xc, 'energy_pa_ref'] = vasp_df.loc[vasp_df.xc == xc, 'energy_pa_ref'] - ref_eng\n",
    "\n",
    "labels = [label.replace('HSE06', '') for label in vasp_df.label]\n",
    "vasp_df['label'] = labels # Reset the labels\n",
    "\n",
    "selected = vasp_df[vasp_df.xc == 'hse06'].label.unique()\n",
    "vasp_df = vasp_df[vasp_df.label.apply(lambda x: x in selected)]"
   ]
  },
  {
   "cell_type": "markdown",
   "metadata": {},
   "source": [
    "## Generate the H vs V plot"
   ]
  },
  {
   "cell_type": "code",
   "execution_count": 10,
   "metadata": {},
   "outputs": [],
   "source": [
    "prop_cycle = plt.rcParams['axes.prop_cycle']\n",
    "colors = prop_cycle.by_key()['color']"
   ]
  },
  {
   "cell_type": "code",
   "execution_count": 11,
   "metadata": {},
   "outputs": [
    {
     "data": {
      "image/png": "[encoded data removed]",
      "text/plain": [
       "<Figure size 576x288 with 4 Axes>"
      ]
     },
     "metadata": {
      "needs_background": "light"
     },
     "output_type": "display_data"
    }
   ],
   "source": [
    "unique_xc = ['lda', 'hse06', 'pbesol', 'pbe']\n",
    "fig, axs = plt.subplots(1, len(unique_xc), sharex=True, sharey=True, figsize=(8,4))\n",
    "airss_labels = {}\n",
    "for i, label in enumerate(vasp_df[vasp_df.type == 'AIRSS'].label.unique()):\n",
    "    airss_labels[label] = colors[i % len(colors)]\n",
    "types = [('$P2_12_12_1$', '^', 'xkcd:dark cyan'), ('AIRSS', '.', 'r'), (r'Anti-$\\mathrm{PbCl_2}$', '*', 'xkcd:red'), ('Gunter', 'v', 'xkcd:dark orange')]\n",
    "for xc, ax in zip(unique_xc, axs):\n",
    "    subset = vasp_df[vasp_df.xc == xc]\n",
    "    for type_name, marker, color in types:\n",
    "        subsubset = subset[subset.type == type_name]\n",
    "        if type_name == 'AIRSS':\n",
    "            c = [airss_labels[lb] for lb in subsubset.label]\n",
    "            ax.scatter(subsubset.volume / subsubset.nform, subsubset.energy_pa_ref, label=type_name, marker=marker, c=c, s=30)\n",
    "        else:\n",
    "            ax.scatter(subsubset.volume / subsubset.nform, subsubset.energy_pa_ref, label=type_name, marker=marker, c=color, s=60)\n",
    "        #ax.scatter(subsubset.volume, subsubset.energy_pa_ref, label=type_name, marker=marker)\n",
    "\n",
    "    ax.set_title(xc.upper() if xc != 'pbesol' else 'PBEsol')\n",
    "    ax.set_xlabel(r'Volume ($\\AA^3$)')\n",
    "    \n",
    "axs[-1].legend(bbox_to_anchor=(1, 1.0))\n",
    "axs[0].set_ylabel('Relative energy (eV/atom)')\n",
    "fig.tight_layout()\n",
    "fig.savefig('xc-compared.svg')"
   ]
  }
 ],
 "metadata": {
  "kernelspec": {
   "display_name": "Python 3",
   "language": "python",
   "name": "python3"
  },
  "language_info": {
   "codemirror_mode": {
    "name": "ipython",
    "version": 3
   },
   "file_extension": ".py",
   "mimetype": "text/x-python",
   "name": "python",
   "nbconvert_exporter": "python",
   "pygments_lexer": "ipython3",
   "version": "3.8.10"
  }
 },
 "nbformat": 4,
 "nbformat_minor": 4
}
