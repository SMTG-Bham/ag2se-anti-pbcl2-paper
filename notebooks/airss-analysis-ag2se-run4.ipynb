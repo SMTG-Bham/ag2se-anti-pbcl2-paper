{
 "cells": [
  {
   "cell_type": "markdown",
   "metadata": {},
   "source": [
    "$\\require{mhchem}$\n",
    "# Analyse AIRSS Search results\n",
    "For $\\ce{Ag2Se}$"
   ]
  },
  {
   "cell_type": "code",
   "execution_count": 1,
   "metadata": {},
   "outputs": [],
   "source": [
    "%matplotlib inline\n",
    "import matplotlib.pyplot as plt\n",
    "import pandas as pd\n",
    "import numpy as np"
   ]
  },
  {
   "cell_type": "markdown",
   "metadata": {},
   "source": [
    "## Plot VASP refine results"
   ]
  },
  {
   "cell_type": "code",
   "execution_count": 3,
   "metadata": {},
   "outputs": [],
   "source": [
    "%aiida\n",
    "import pandas as pd\n",
    "from aiida.orm import Group, QueryBuilder, StructureData,Code, Computer\n",
    "# Gruop containing the res structures for easy access\n",
    "res_structgroup = Group.objects.get(label='ag2se/run4/airss-refine-structure')"
   ]
  },
  {
   "cell_type": "code",
   "execution_count": 4,
   "metadata": {},
   "outputs": [],
   "source": [
    "def get_xc_type(param, sfamily):\n",
    "    \n",
    "    xc = 'unknown'\n",
    "    if sfamily.startswith('LDA'):\n",
    "        xc = 'lda'\n",
    "    if isinstance(param, Dict):\n",
    "        param = param.get_dict()['vasp']\n",
    "    else:\n",
    "        param = param['vasp']\n",
    "    \n",
    "    gga = param.get('gga', 'PE')\n",
    "    if gga and xc == 'lda':\n",
    "        xc = 'gga+ldapp'\n",
    "        \n",
    "    if gga.upper() == 'PE':\n",
    "        if param.get('lhfcalc'):\n",
    "            xc = 'hse06'\n",
    "        xc = 'pbe'\n",
    "    if gga == 'ps':\n",
    "        xc = 'pbesol'\n",
    "    if 'ldau' in 'param':\n",
    "        xc += '+u'\n",
    "    return xc\n",
    "\n",
    "import re\n",
    "# Patter matching the name\n",
    "pat = re.compile(r'([\\w\\-_]+)\\.res')\n",
    "\n",
    "def get_dataframe(group, lkey=0):\n",
    "    \"\"\"Obtained relaxed structures for a particular group\"\"\"\n",
    "\n",
    "    q = QueryBuilder()\n",
    "    q.append(Group, filters={'id': group.pk})\n",
    "    q.append(StructureData, with_group=Group, project=['id'])\n",
    "    q.append(WorkChainNode, with_incoming=StructureData, filters={'attributes.exit_status': {'in': [0, 406, 600]},\n",
    "                                                                  'process_type': {'like': '%relax'}\n",
    "                                                                 },\n",
    "             project=['uuid', 'label'])\n",
    "    q.append(Str, with_outgoing=WorkChainNode, edge_filters={'label': 'vasp__potential_family'}, project='attributes.value')\n",
    "    q.append(Dict, with_incoming=WorkChainNode, project=['attributes.total_energies.energy_no_entropy'])\n",
    "    q.append(StructureData, edge_filters={'label': 'relax__structure'}, with_incoming=WorkChainNode, project=['*', 'id'], edge_project=['label'])\n",
    "    q.append(Dict, with_outgoing=WorkChainNode, edge_filters={'label': 'vasp__parameters'}, project=['attributes'], \n",
    "             filters={'attributes.vasp.encut': 550}\n",
    "            )\n",
    "    q.distinct()\n",
    "    res = q.all()\n",
    "    \n",
    "    q = QueryBuilder()\n",
    "    q.append(Group, filters={'id': group.pk})\n",
    "    q.append(StructureData, with_group=Group, project=['id'])\n",
    "    q.append(WorkChainNode, with_incoming=StructureData, filters={'attributes.exit_status': {'in': [0, 406, 600]},\n",
    "                                                                  'process_type': {'like': '%relax'}\n",
    "                                                                 },\n",
    "             project=['uuid', 'label'])\n",
    "    q.append(Str, with_outgoing=WorkChainNode, edge_filters={'label': 'potential_family'}, project='attributes.value')\n",
    "    q.append(Dict, with_incoming=WorkChainNode, project=['attributes.total_energies.energy_no_entropy'])\n",
    "    q.append(StructureData, edge_filters={'label': 'relax__structure'}, with_incoming=WorkChainNode, project=['*', 'id'], edge_project=['label'])\n",
    "    q.append(Dict, with_outgoing=WorkChainNode, edge_filters={'label': 'parameters'}, project=['attributes'], \n",
    "             filters={'attributes.vasp.encut': 550}\n",
    "            )\n",
    "    q.distinct()\n",
    "    res.extend(q.all())\n",
    "    \n",
    "    \n",
    "    results = []\n",
    "    for spk, rpk, rlabel, family_string,  eng, struct, rspk, calc_param, elabel in res:\n",
    "        funits = struct.get_pymatgen().composition.get_integer_formula_and_factor()[1]\n",
    "        name = 'Ag2Se GUNTER' if 'GUNTER' in rlabel else rlabel.split()[lkey] \n",
    "        results.append({'label': str(name), 'relax_work': rpk, 'relaxed': rspk, 'energy': eng,\n",
    "                        'energy_fu': eng / funits, 'nform': funits, \n",
    "                        'volume': struct.get_cell_volume(), \n",
    "                        'volume_fu': struct.get_cell_volume() / funits,\n",
    "                        'xc': get_xc_type(calc_param, family_string),\n",
    "                        'elabel': elabel,\n",
    "                        **calc_param['vasp']\n",
    "                       })\n",
    "    return pd.DataFrame.from_records(results)"
   ]
  },
  {
   "cell_type": "code",
   "execution_count": 5,
   "metadata": {},
   "outputs": [],
   "source": [
    "def type_string(label):\n",
    "    if 'mp' in label:\n",
    "        return 'MP'\n",
    "    elif '20200927' in label:\n",
    "        return 'EXP'\n",
    "    return 'AIRSS'"
   ]
  },
  {
   "cell_type": "code",
   "execution_count": 6,
   "metadata": {},
   "outputs": [
    {
     "data": {
      "text/plain": [
       "<Group: \"ag2se/run2/airss-refine-structure\" [type core], of user bonan.zhu@ucl.ac.uk>"
      ]
     },
     "execution_count": 6,
     "metadata": {},
     "output_type": "execute_result"
    }
   ],
   "source": [
    "Group.objects.get(label='ag2se/run2/airss-refine-structure')"
   ]
  },
  {
   "cell_type": "code",
   "execution_count": 7,
   "metadata": {},
   "outputs": [],
   "source": [
    "dfs = []\n",
    "for resgroup in [res_structgroup, Group.objects.get(label='ag2se/run2/airss-refine-structure'), \n",
    "                                                    Group.objects.get(label='ag2se/run1/airss-refine-structure')]:\n",
    "    res_vasp_df = get_dataframe(resgroup)\n",
    "    vasp_df = res_vasp_df\n",
    "    vasp_df['type'] = vasp_df.label.apply(type_string)\n",
    "    vasp_df['group'] = resgroup.label\n",
    "    vasp_df['label'] = vasp_df['label'].str.replace('-P2', '_P2')\n",
    "    dfs.append(vasp_df)\n",
    "vasp_df = pd.concat(dfs)\n",
    "\n",
    "vasp_df['label'] = vasp_df['label'].str.replace('-P2', '_P2')\n",
    "vasp_df['seed_name'] = vasp_df['label'].apply(lambda x: x.split('-')[0])\n",
    "vasp_df['energy_pa'] = vasp_df['energy_fu'] / 3 # 3 atoms per unit cell\n",
    "\n",
    "#Drop the LDA results\n",
    "vasp_df = vasp_df[vasp_df.xc != 'lda']"
   ]
  },
  {
   "cell_type": "code",
   "execution_count": 8,
   "metadata": {},
   "outputs": [],
   "source": [
    "group = Group.objects.get_or_create(label='ag2se/refine-relaxations')[0]\n",
    "\n",
    "group.add_nodes([load_node(node) for node in vasp_df.relax_work.values])"
   ]
  },
  {
   "cell_type": "markdown",
   "metadata": {},
   "source": [
    "# Reference for each ex"
   ]
  },
  {
   "cell_type": "code",
   "execution_count": 9,
   "metadata": {},
   "outputs": [],
   "source": [
    "vasp_df['energy_pa_ref'] = vasp_df['energy_pa']\n",
    "for xc in vasp_df.xc.unique():\n",
    "    ref_eng = vasp_df.loc[vasp_df.xc == xc, 'energy_pa'].min()\n",
    "    vasp_df.loc[vasp_df.xc == xc, 'energy_pa_ref'] = vasp_df.loc[vasp_df.xc == xc, 'energy_pa_ref'] - ref_eng"
   ]
  },
  {
   "cell_type": "markdown",
   "metadata": {},
   "source": [
    "## Plotting"
   ]
  },
  {
   "cell_type": "code",
   "execution_count": 10,
   "metadata": {},
   "outputs": [],
   "source": [
    "vasp_df.to_csv('vasp_refine_data.csv')"
   ]
  },
  {
   "cell_type": "code",
   "execution_count": 11,
   "metadata": {},
   "outputs": [],
   "source": [
    "plt.style.use('publication_mp_style')"
   ]
  },
  {
   "cell_type": "code",
   "execution_count": 12,
   "metadata": {},
   "outputs": [],
   "source": [
    "df_all = pd.read_csv('vasp_refine_data.csv')\n",
    "df_pbesol = df_all[df_all.xc == 'pbesol'].copy().reset_index()\n",
    "min_ids = df_pbesol.groupby('label')['energy'].idxmin()\n",
    "# Remove duplicated calculaation - take the minimum energy for each label\n",
    "df_pbesol_min = df_pbesol.loc[min_ids]"
   ]
  },
  {
   "cell_type": "code",
   "execution_count": 13,
   "metadata": {},
   "outputs": [
    {
     "data": {
      "image/png": "[encoded data removed]",
      "text/plain": [
       "<Figure size 350x350 with 1 Axes>"
      ]
     },
     "metadata": {
      "needs_background": "light"
     },
     "output_type": "display_data"
    }
   ],
   "source": [
    "fig = plt.figure(dpi=100)\n",
    "\n",
    "type_name = 'MP'\n",
    "selected = df_pbesol_min[df_pbesol_min.type == type_name]\n",
    "plt.scatter(selected.volume_fu, selected.energy_pa, s=50, marker='^', label=r'$P2_12_12_1$')\n",
    "type_name = 'EXP'\n",
    "selected = df_pbesol_min[df_pbesol_min.type == type_name]\n",
    "plt.scatter(selected.volume_fu, selected.energy_pa, s=80, \n",
    "            #c='xkcd:red', \n",
    "            marker='*', label=r'anti-$\\mathrm{PbCl_2}$')\n",
    "type_name = 'AIRSS'\n",
    "selected = df_pbesol_min[df_pbesol_min.type == type_name]\n",
    "plt.scatter(selected.volume_fu, selected.energy_pa, s=10, marker='.', \n",
    "           # c='xkcd: orchid'\n",
    "            label='AIRSS'\n",
    "           )\n",
    "\n",
    "plt.ylim(-3.56, -3.50)\n",
    "plt.xlim(55, 65)\n",
    "plt.xlabel(r'Volume per f.u. ($\\mathrm{\\AA^3}$)')\n",
    "plt.ylabel(r'Energy per atom (eV)')\n",
    "plt.legend()\n",
    "plt.tight_layout()\n",
    "plt.savefig('search_result.svg')"
   ]
  },
  {
   "cell_type": "markdown",
   "metadata": {},
   "source": [
    "# Save the structures"
   ]
  },
  {
   "cell_type": "code",
   "execution_count": 14,
   "metadata": {},
   "outputs": [],
   "source": [
    "!mkdir refined-structures"
   ]
  },
  {
   "cell_type": "code",
   "execution_count": 16,
   "metadata": {},
   "outputs": [],
   "source": [
    "from ase.io import write\n",
    "df_all.to_csv('../refined-structures/vasp_refine_data.csv')\n",
    "\n",
    "atoms_list = []\n",
    "labels = []\n",
    "for i, (_, row) in enumerate(vasp_df[vasp_df['xc'] =='pbesol'].sort_values('energy_fu').iterrows()):\n",
    "    atoms = load_node(row['relaxed']).get_ase()\n",
    "    atoms.info.update(row.to_dict())\n",
    "    atoms_list.append(atoms)\n",
    "    labels.append(atoms.info['label'][-6:])\n",
    "    atoms.write(f\"../refined-structures/{i:03d}-{row.label}.vasp\")\n",
    "\n",
    "with open(\"label.dat\", \"w\") as fh:\n",
    "    fh.write('\\n'.join(labels))"
   ]
  }
 ],
 "metadata": {
  "kernelspec": {
   "display_name": "Python 3",
   "language": "python",
   "name": "python3"
  },
  "language_info": {
   "codemirror_mode": {
    "name": "ipython",
    "version": 3
   },
   "file_extension": ".py",
   "mimetype": "text/x-python",
   "name": "python",
   "nbconvert_exporter": "python",
   "pygments_lexer": "ipython3",
   "version": "3.8.10"
  }
 },
 "nbformat": 4,
 "nbformat_minor": 4
}
