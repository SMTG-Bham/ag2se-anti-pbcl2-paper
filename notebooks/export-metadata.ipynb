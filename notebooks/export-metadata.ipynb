{
 "cells": [
  {
   "cell_type": "markdown",
   "id": "5b3972a3-b00a-44bb-9ee8-ff1809c74a48",
   "metadata": {},
   "source": [
    "## Export the nodes"
   ]
  },
  {
   "cell_type": "code",
   "execution_count": 1,
   "id": "3c127b7c-2031-4c3b-aa1f-01c9d7066287",
   "metadata": {},
   "outputs": [
    {
     "data": {
      "application/json": {
       "current_state": "Loaded AiiDA DB environment - profile name: scanlon-test."
      },
      "text/html": [
       "<p>Loaded AiiDA DB environment - profile name: scanlon-test.</p>"
      ],
      "text/latex": [
       "Loaded AiiDA DB environment - profile name: scanlon-test.\n"
      ],
      "text/plain": [
       "Loaded AiiDA DB environment - profile name: scanlon-test.\n"
      ]
     },
     "execution_count": 1,
     "metadata": {},
     "output_type": "execute_result"
    }
   ],
   "source": [
    "%aiida"
   ]
  },
  {
   "cell_type": "code",
   "execution_count": 16,
   "id": "020b00a3-0139-47ca-8aa6-544c0add1b8f",
   "metadata": {},
   "outputs": [],
   "source": [
    "phonon_uuids = ['ecb7ff57-0e7b-4f8b-bf12-890309688b90', \n",
    "                'ecb7ff57-0e7b-4f8b-bf12-890309688b90', \n",
    "                '9a11fa7c-1983-4700-a3ea-586143398195',\n",
    "               ]\n",
    "bands_uuids = [\n",
    "    \"657dec8f-0f61-4a9a-b1d4-5caf9256667a\",\n",
    "    \"35d4c7f8-abf7-4d36-9282-a0f2985ae747\",\n",
    "    \"a03a6b22-8b6c-4ce7-8a54-f757e935dabe\",\n",
    "    \"8e8bbcea-dee1-4ac4-8b6e-27743c370250\",\n",
    "    \"4fc13bc7-408a-4844-97ce-1d42a67c1491\",\n",
    "    \"e58ebd97-79fb-4d68-a318-1767b1e7c8ea\",\n",
    "]\n",
    "groups = ['ag2se/run4/airss-refine-structure',\n",
    "          'ag2se/run2/airss-refine-structure',\n",
    "          'ag2se/run1/airss-refine-structure',\n",
    "          'ag2se/refine-relaxations', \n",
    "          'ag2se/gunter/structure',\n",
    "          'ag2se/reduced-xc-test-set',\n",
    "          'ag2se/refine-xc-compare-relaxations']\n",
    "group_names = ' '.join(groups)\n",
    "uuids = ' '.join(phonon_uuids + bands_uuids)"
   ]
  },
  {
   "cell_type": "code",
   "execution_count": null,
   "id": "da4c207b-7942-4ac9-b69a-8d1062225cd0",
   "metadata": {},
   "outputs": [
    {
     "name": "stdout",
     "output_type": "stream",
     "text": []
    },
    {
     "name": "stdout",
     "output_type": "stream",
     "text": [
      "\n",
      "EXPORT\n",
      "--------------  ------------------------\n",
      "Archive         ../ag2se-calcs.aiida\n",
      "Format          JSON Zip (compression=8)\n",
      "Export version  0.10\n",
      "\n",
      "Inclusion rules\n",
      "-----------------  ----\n",
      "Include Comments   True\n",
      "Include Logs       True\n",
      "\n",
      "Traversal rules\n",
      "---------------------------------  -----\n",
      "Follow links input calc forwards   False\n",
      "Follow links input calc backwards  True\n",
      "Follow links create forwards       True\n",
      "Follow links create backwards      True\n",
      "Follow links return forwards       True\n",
      "Follow links return backwards      False\n",
      "Follow links input work forwards   False\n",
      "Follow links input work backwards  True\n",
      "Follow links call calc forwards    True\n",
      "Follow links call calc backwards   True\n",
      "Follow links call work forwards    True\n",
      "Follow links call work backwards   True\n",
      "\n",
      "Exporting node repositories: 290220        9.1%|█▊                  | 2786/30528"
     ]
    }
   ],
   "source": [
    "!verdi archive create -G {group_names} -N {uuids} -- ../ag2se-calcs.aiida"
   ]
  }
 ],
 "metadata": {
  "kernelspec": {
   "display_name": "Python [conda env:aiida-1.0-py3]",
   "language": "python",
   "name": "conda-env-aiida-1.0-py3-py"
  },
  "language_info": {
   "codemirror_mode": {
    "name": "ipython",
    "version": 3
   },
   "file_extension": ".py",
   "mimetype": "text/x-python",
   "name": "python",
   "nbconvert_exporter": "python",
   "pygments_lexer": "ipython3",
   "version": "3.8.10"
  }
 },
 "nbformat": 4,
 "nbformat_minor": 5
}
